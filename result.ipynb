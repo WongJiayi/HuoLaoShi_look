{
 "cells": [
  {
   "cell_type": "code",
   "execution_count": 6,
   "id": "1e874348-f4dd-4438-838e-566c4e923378",
   "metadata": {},
   "outputs": [
    {
     "name": "stdout",
     "output_type": "stream",
     "text": [
      "步骤 0，当前状态: 216408753\n",
      "步骤 1，当前状态: 206418753\n",
      "步骤 2，当前状态: 026418753\n",
      "步骤 3，当前状态: 106248753\n",
      "步骤 4，当前状态: 146208753\n",
      "步骤 5，当前状态: 146028753\n",
      "步骤 6，当前状态: 168204753\n",
      "步骤 7，当前状态: 106243785\n",
      "步骤 8，当前状态: 146203785\n",
      "步骤 9，当前状态: 163240785\n",
      "步骤 10，当前状态: 163204785\n",
      "步骤 11，当前状态: 103264785\n",
      "步骤 12，当前状态: 420831765\n",
      "步骤 13，当前状态: 413820765\n",
      "步骤 14，当前状态: 126804753\n",
      "步骤 15，当前状态: 102843765\n",
      "步骤 16，当前状态: 120843765\n",
      "步骤 17，当前状态: 123840765\n",
      "步骤 18，当前状态: 123804765\n",
      "18\n"
     ]
    }
   ],
   "source": [
    "import heapq\n",
    "\n",
    "class Solution(object):\n",
    "    def __init__(self, target='123804765'):\n",
    "        self.s_target = target\n",
    "\n",
    "    def H(self, s_cur):\n",
    "        s_target = self.s_target\n",
    "        num = 0\n",
    "        for i in range(9):\n",
    "            if s_target[i] != s_cur[i] and s_cur[i] != '0': \n",
    "                num += 1\n",
    "        return num\n",
    "\n",
    "    def Astar(self, s0):\n",
    "        if self.H(s0) == 0:\n",
    "            return 0\n",
    "\n",
    "        heap = []\n",
    "        visited = set() \n",
    "        heapq.heappush(heap, [self.H(s0), s0, s0.index('0'), 0])\n",
    "\n",
    "        neighbors = {\n",
    "            0: [1, 3], 1: [0, 2, 4], 2: [1, 5],\n",
    "            3: [0, 4, 6], 4: [1, 3, 5, 7], 5: [2, 4, 8],\n",
    "            6: [3, 7], 7: [4, 6, 8], 8: [5, 7]\n",
    "        }\n",
    "\n",
    "        ctrl_steps = 0 # control print\n",
    "        while heap:\n",
    "            _, cur_s, zero_pos, steps = heapq.heappop(heap)\n",
    "\n",
    "            if steps == ctrl_steps:\n",
    "                print(f\"步骤 {steps}，当前状态: {cur_s}\")\n",
    "                ctrl_steps += 1\n",
    "\n",
    "            if cur_s == self.s_target:\n",
    "                return steps\n",
    "\n",
    "            if cur_s in visited: \n",
    "                continue\n",
    "\n",
    "            visited.add(cur_s)\n",
    "\n",
    "            for neighbor in neighbors[zero_pos]:\n",
    "                new_s = list(cur_s)  # str to list\n",
    "                new_s[zero_pos], new_s[neighbor] = new_s[neighbor], new_s[zero_pos]  # exchange order\n",
    "                new_s = ''.join(new_s)  # list to str\n",
    "                if new_s not in visited: \n",
    "                    heapq.heappush(heap, [self.H(new_s) + steps + 1, new_s, neighbor, steps + 1])\n",
    "\n",
    "        return -1  # error\n",
    "\n",
    "\n",
    "s0 = '216408753'\n",
    "solution = Solution()\n",
    "print(solution.Astar(s0))"
   ]
  },
  {
   "cell_type": "code",
   "execution_count": null,
   "id": "6e30a1a1-b641-4c2a-a21b-c29991662c09",
   "metadata": {},
   "outputs": [],
   "source": []
  }
 ],
 "metadata": {
  "kernelspec": {
   "display_name": "Python 3 (ipykernel)",
   "language": "python",
   "name": "python3"
  },
  "language_info": {
   "codemirror_mode": {
    "name": "ipython",
    "version": 3
   },
   "file_extension": ".py",
   "mimetype": "text/x-python",
   "name": "python",
   "nbconvert_exporter": "python",
   "pygments_lexer": "ipython3",
   "version": "3.12.7"
  }
 },
 "nbformat": 4,
 "nbformat_minor": 5
}
